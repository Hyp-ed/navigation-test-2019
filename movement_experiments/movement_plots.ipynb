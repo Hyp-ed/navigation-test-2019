{
 "cells": [
  {
   "cell_type": "code",
   "execution_count": 1,
   "metadata": {},
   "outputs": [],
   "source": [
    "import numpy as np\n",
    "import matplotlib.pyplot as plt\n",
    "import csv"
   ]
  },
  {
   "cell_type": "code",
   "execution_count": 2,
   "metadata": {},
   "outputs": [],
   "source": [
    "# CSV functions\n",
    "def csv_to_dict(file):\n",
    "    \"\"\"\n",
    "    read CSV file and create dict with key for each head containing a list of column entries for respective head\n",
    "    \n",
    "    :param file: path to CSV file to read\n",
    "    :return: created dictionary\n",
    "    \"\"\"\n",
    "    d = {}\n",
    "    with open(file) as fin:\n",
    "        reader = csv.reader(fin)\n",
    "        headers = next(reader, None)\n",
    "        for h in headers:\n",
    "            d[h] = []\n",
    "        for row in reader:\n",
    "            for h, entry in zip(headers,row):\n",
    "                d[h].append(entry)\n",
    "    return d\n",
    "\n",
    "\n",
    "def print_csv_dict(d):\n",
    "    \"\"\"\n",
    "    print CSV dictionary in formatted way\n",
    "    \n",
    "    :param d: dict of CSV file to print\n",
    "    :return:\n",
    "    \"\"\"\n",
    "    pp = pprint.PrettyPrinter(indent=4)\n",
    "    pp.pprint(d)"
   ]
  },
  {
   "cell_type": "code",
   "execution_count": 3,
   "metadata": {},
   "outputs": [],
   "source": [
    "# IMU data dict functions\n",
    "def extract_acc(d):\n",
    "    \"\"\"\n",
    "    extract acceleration vectors for IMU data run dict\n",
    "    \n",
    "    :param d: dict of CSV file of IMU data run\n",
    "    :return: a (numpy array)\n",
    "    \"\"\"\n",
    "    a = np.array(d['a'], dtype='float32')\n",
    "    return a\n",
    "\n",
    "def extract_z(d):\n",
    "    \"\"\"\n",
    "    extract acceleration measurements for IMU data run dict\n",
    "    \n",
    "    :param d: dict of CSV file of IMU data run\n",
    "    :return: z (numpy array)\n",
    "    \"\"\"\n",
    "    z = np.array(d['z'], dtype='float32')\n",
    "    return z\n",
    "\n",
    "def extract_vel(d):\n",
    "    \"\"\"\n",
    "    extract velocity vectors for IMU data run dict\n",
    "    \n",
    "    :param d: dict of CSV file of IMU data run\n",
    "    :return: v (numpy array)\n",
    "    \"\"\"\n",
    "    v = np.array(d['v'], dtype='float32')\n",
    "    return v\n",
    "\n",
    "def extract_pos(d):\n",
    "    \"\"\"\n",
    "    extract position vectors for IMU data run dict\n",
    "    \n",
    "    :param d: dict of CSV file of IMU data run\n",
    "    :return: p (numpy array)\n",
    "    \"\"\"\n",
    "    p = np.array(d['d'], dtype='float32')\n",
    "    return p\n",
    "\n",
    "def extract_time(d):\n",
    "    \"\"\"\n",
    "    extract time vector for IMU data run dict (in seconds)\n",
    "    \n",
    "    :param d: dict of CSV file of IMU data run\n",
    "    :return: time\n",
    "    \"\"\"\n",
    "    timestamps = np.array(d['t'], dtype='float32')\n",
    "    return timestamps"
   ]
  },
  {
   "cell_type": "code",
   "execution_count": 5,
   "metadata": {},
   "outputs": [],
   "source": [
    "data_move_fast = []\n",
    "for run in range(3):\n",
    "    run_data_file = 'fast_runs/move_fast_3.5m_' + str(run + 1) + '.csv'\n",
    "    run_dict = csv_to_dict(run_data_file)\n",
    "    data_move_fast.append(run_dict)\n",
    "    \n",
    "data_move_slow = []\n",
    "for run in range(3):\n",
    "    run_data_file = 'slow_runs/move_slow_3.5m_' + str(run + 1) + '.csv'\n",
    "    run_dict = csv_to_dict(run_data_file)\n",
    "    data_move_slow.append(run_dict)"
   ]
  },
  {
   "cell_type": "code",
   "execution_count": 6,
   "metadata": {},
   "outputs": [],
   "source": [
    "def plot_run_data(run_dict):\n",
    "    acc = extract_acc(run_dict)\n",
    "    vel = extract_vel(run_dict)\n",
    "    pos = extract_pos(run_dict)\n",
    "    time = extract_time(run_dict)\n",
    "    \n",
    "    f, axarr = plt.subplots(1, 3, figsize=(15,5))\n",
    "    # plot corrected accelerations\n",
    "    axarr[0].plot(time, acc, label='acc')\n",
    "    axarr[0].set_title('Acceleration z-axis')\n",
    "    axarr[0].set_xlabel('time in seconds')\n",
    "    axarr[0].set_ylabel('Acceleration in m/s^2')\n",
    "    axarr[0].legend()\n",
    "    \n",
    "    # plot velocities\n",
    "    axarr[1].plot(time, vel, label='vel')\n",
    "    axarr[1].set_title('Velocity z-axis')\n",
    "    axarr[1].set_xlabel('time in seconds')\n",
    "    axarr[1].set_ylabel('Velocity in m/s')\n",
    "    axarr[1].legend()\n",
    "    \n",
    "    # plot position\n",
    "    axarr[2].plot(time, pos, label='pos')\n",
    "    axarr[2].set_title('Displacement z-axis')\n",
    "    axarr[2].set_xlabel('time in seconds')\n",
    "    axarr[2].set_ylabel('Displacement in m')\n",
    "    axarr[2].legend()\n",
    "    \n",
    "    plt.show()"
   ]
  },
  {
   "cell_type": "code",
   "execution_count": 7,
   "metadata": {},
   "outputs": [],
   "source": [
    "def plot_accs_zs(run_dicts):\n",
    "    num = len(run_dicts)\n",
    "    \n",
    "    accs = []\n",
    "    zs = []\n",
    "    times = []\n",
    "    for run_dict in run_dicts:\n",
    "        accs.append(extract_acc(run_dict))\n",
    "        zs.append(extract_z(run_dict))\n",
    "        times.append(extract_time(run_dict))\n",
    "    \n",
    "    \n",
    "    # plot filtered acc and measurements\n",
    "    for i in range(num):\n",
    "        plot_run_data(run_dicts[i])\n",
    "        plt.figure(figsize=(15,5))\n",
    "        plt.plot(times[i], accs[i], label='filtered acc')\n",
    "        plt.plot(times[i], zs[i], label='unfiltered acc')\n",
    "        plt.xlabel('time [s]')\n",
    "        plt.ylabel('acceleration [m/s^2]')\n",
    "        plt.legend()\n",
    "        plt.show()"
   ]
  },
  {
   "cell_type": "code",
   "execution_count": 8,
   "metadata": {
    "scrolled": false
   },
   "outputs": [
    {
     "name": "stdout",
     "output_type": "stream",
     "text": [
      "Filtered estimates for slow movement runs (3.5m)\n"
     ]
    },
    {
     "ename": "TypeError",
     "evalue": "list indices must be integers or slices, not str",
     "output_type": "error",
     "traceback": [
      "\u001b[0;31m---------------------------------------------------------------------------\u001b[0m",
      "\u001b[0;31mTypeError\u001b[0m                                 Traceback (most recent call last)",
      "\u001b[0;32m<ipython-input-8-003fafb7ad3e>\u001b[0m in \u001b[0;36m<module>\u001b[0;34m\u001b[0m\n\u001b[1;32m      1\u001b[0m \u001b[0mprint\u001b[0m\u001b[0;34m(\u001b[0m\u001b[0;34m\"Filtered estimates for slow movement runs (3.5m)\"\u001b[0m\u001b[0;34m)\u001b[0m\u001b[0;34m\u001b[0m\u001b[0;34m\u001b[0m\u001b[0m\n\u001b[0;32m----> 2\u001b[0;31m \u001b[0mplot_run_data\u001b[0m\u001b[0;34m(\u001b[0m\u001b[0mdata_move_slow\u001b[0m\u001b[0;34m)\u001b[0m\u001b[0;34m\u001b[0m\u001b[0;34m\u001b[0m\u001b[0m\n\u001b[0m\u001b[1;32m      3\u001b[0m \u001b[0;34m\u001b[0m\u001b[0m\n\u001b[1;32m      4\u001b[0m \u001b[0mprint\u001b[0m\u001b[0;34m(\u001b[0m\u001b[0;34m\"Filtered estimates for fast movement runs (3.5m)\"\u001b[0m\u001b[0;34m)\u001b[0m\u001b[0;34m\u001b[0m\u001b[0;34m\u001b[0m\u001b[0m\n\u001b[1;32m      5\u001b[0m \u001b[0mplot_run_data\u001b[0m\u001b[0;34m(\u001b[0m\u001b[0mdata_move_fast\u001b[0m\u001b[0;34m)\u001b[0m\u001b[0;34m\u001b[0m\u001b[0;34m\u001b[0m\u001b[0m\n",
      "\u001b[0;32m<ipython-input-6-5f8f45b3a6b3>\u001b[0m in \u001b[0;36mplot_run_data\u001b[0;34m(run_dict)\u001b[0m\n\u001b[1;32m      1\u001b[0m \u001b[0;32mdef\u001b[0m \u001b[0mplot_run_data\u001b[0m\u001b[0;34m(\u001b[0m\u001b[0mrun_dict\u001b[0m\u001b[0;34m)\u001b[0m\u001b[0;34m:\u001b[0m\u001b[0;34m\u001b[0m\u001b[0;34m\u001b[0m\u001b[0m\n\u001b[0;32m----> 2\u001b[0;31m     \u001b[0macc\u001b[0m \u001b[0;34m=\u001b[0m \u001b[0mextract_acc\u001b[0m\u001b[0;34m(\u001b[0m\u001b[0mrun_dict\u001b[0m\u001b[0;34m)\u001b[0m\u001b[0;34m\u001b[0m\u001b[0;34m\u001b[0m\u001b[0m\n\u001b[0m\u001b[1;32m      3\u001b[0m     \u001b[0mvel\u001b[0m \u001b[0;34m=\u001b[0m \u001b[0mextract_vel\u001b[0m\u001b[0;34m(\u001b[0m\u001b[0mrun_dict\u001b[0m\u001b[0;34m)\u001b[0m\u001b[0;34m\u001b[0m\u001b[0;34m\u001b[0m\u001b[0m\n\u001b[1;32m      4\u001b[0m     \u001b[0mpos\u001b[0m \u001b[0;34m=\u001b[0m \u001b[0mextract_pos\u001b[0m\u001b[0;34m(\u001b[0m\u001b[0mrun_dict\u001b[0m\u001b[0;34m)\u001b[0m\u001b[0;34m\u001b[0m\u001b[0;34m\u001b[0m\u001b[0m\n\u001b[1;32m      5\u001b[0m     \u001b[0mtime\u001b[0m \u001b[0;34m=\u001b[0m \u001b[0mextract_time\u001b[0m\u001b[0;34m(\u001b[0m\u001b[0mrun_dict\u001b[0m\u001b[0;34m)\u001b[0m\u001b[0;34m\u001b[0m\u001b[0;34m\u001b[0m\u001b[0m\n",
      "\u001b[0;32m<ipython-input-3-88e8d0795823>\u001b[0m in \u001b[0;36mextract_acc\u001b[0;34m(d)\u001b[0m\n\u001b[1;32m      7\u001b[0m     \u001b[0;34m:\u001b[0m\u001b[0;32mreturn\u001b[0m\u001b[0;34m:\u001b[0m \u001b[0ma\u001b[0m \u001b[0;34m(\u001b[0m\u001b[0mnumpy\u001b[0m \u001b[0marray\u001b[0m\u001b[0;34m)\u001b[0m\u001b[0;34m\u001b[0m\u001b[0;34m\u001b[0m\u001b[0m\n\u001b[1;32m      8\u001b[0m     \"\"\"\n\u001b[0;32m----> 9\u001b[0;31m     \u001b[0ma\u001b[0m \u001b[0;34m=\u001b[0m \u001b[0mnp\u001b[0m\u001b[0;34m.\u001b[0m\u001b[0marray\u001b[0m\u001b[0;34m(\u001b[0m\u001b[0md\u001b[0m\u001b[0;34m[\u001b[0m\u001b[0;34m'a'\u001b[0m\u001b[0;34m]\u001b[0m\u001b[0;34m,\u001b[0m \u001b[0mdtype\u001b[0m\u001b[0;34m=\u001b[0m\u001b[0;34m'float32'\u001b[0m\u001b[0;34m)\u001b[0m\u001b[0;34m\u001b[0m\u001b[0;34m\u001b[0m\u001b[0m\n\u001b[0m\u001b[1;32m     10\u001b[0m     \u001b[0;32mreturn\u001b[0m \u001b[0ma\u001b[0m\u001b[0;34m\u001b[0m\u001b[0;34m\u001b[0m\u001b[0m\n\u001b[1;32m     11\u001b[0m \u001b[0;34m\u001b[0m\u001b[0m\n",
      "\u001b[0;31mTypeError\u001b[0m: list indices must be integers or slices, not str"
     ]
    }
   ],
   "source": [
    "print(\"Filtered estimates for slow movement runs (3.5m)\")\n",
    "for move_slow_dict in data_move_slow:\n",
    "    plot_run_data(move_slow_dict)\n",
    "\n",
    "print(\"Filtered estimates for fast movement runs (3.5m)\")\n",
    "for move_fast_dict in data_move_fast:\n",
    "    plot_run_data(move_fast_dict)"
   ]
  }
 ],
 "metadata": {
  "kernelspec": {
   "display_name": "Python 3",
   "language": "python",
   "name": "python3"
  },
  "language_info": {
   "codemirror_mode": {
    "name": "ipython",
    "version": 3
   },
   "file_extension": ".py",
   "mimetype": "text/x-python",
   "name": "python",
   "nbconvert_exporter": "python",
   "pygments_lexer": "ipython3",
   "version": "3.7.3"
  }
 },
 "nbformat": 4,
 "nbformat_minor": 2
}
