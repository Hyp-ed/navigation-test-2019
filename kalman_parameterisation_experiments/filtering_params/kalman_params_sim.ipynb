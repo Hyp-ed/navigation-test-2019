{
 "cells": [
  {
   "cell_type": "code",
   "execution_count": 1,
   "metadata": {},
   "outputs": [],
   "source": [
    "import numpy as np\n",
    "import matplotlib.pyplot as plt\n",
    "import csv\n",
    "import os"
   ]
  },
  {
   "cell_type": "code",
   "execution_count": 2,
   "metadata": {},
   "outputs": [],
   "source": [
    "from matplotlib import rc\n",
    "rc('text', usetex=True)\n",
    "rc('font', family='serif', size=22)\n",
    "rc('axes', labelsize=28)"
   ]
  },
  {
   "cell_type": "code",
   "execution_count": 3,
   "metadata": {},
   "outputs": [],
   "source": [
    "# CSV functions\n",
    "def csv_to_dict(file):\n",
    "    \"\"\"\n",
    "    read CSV file and create dict with key for each head containing a list of column entries for respective head\n",
    "    \n",
    "    :param file: path to CSV file to read\n",
    "    :return: created dictionary\n",
    "    \"\"\"\n",
    "    d = {}\n",
    "    with open(file) as fin:\n",
    "        reader = csv.reader(fin)\n",
    "        headers = next(reader, None)\n",
    "        for h in headers:\n",
    "            d[h] = []\n",
    "        for row in reader:\n",
    "            for h, entry in zip(headers,row):\n",
    "                d[h].append(entry)\n",
    "    return d\n",
    "\n",
    "\n",
    "def print_csv_dict(d):\n",
    "    \"\"\"\n",
    "    print CSV dictionary in formatted way\n",
    "    \n",
    "    :param d: dict of CSV file to print\n",
    "    :return:\n",
    "    \"\"\"\n",
    "    pp = pprint.PrettyPrinter(indent=4)\n",
    "    pp.pprint(d)"
   ]
  },
  {
   "cell_type": "code",
   "execution_count": 4,
   "metadata": {},
   "outputs": [],
   "source": [
    "# IMU data dict functions\n",
    "def extract_acc(d):\n",
    "    \"\"\"\n",
    "    extract acceleration vectors for IMU data run dict\n",
    "    \n",
    "    :param d: dict of CSV file of IMU data run\n",
    "    :return: a (numpy array)\n",
    "    \"\"\"\n",
    "    a = np.array(d['a'], dtype='float32')\n",
    "    return a\n",
    "\n",
    "def extract_z(d):\n",
    "    \"\"\"\n",
    "    extract acceleration measurements for IMU data run dict\n",
    "    \n",
    "    :param d: dict of CSV file of IMU data run\n",
    "    :return: z (numpy array)\n",
    "    \"\"\"\n",
    "    z = np.array(d['z'], dtype='float32')\n",
    "    return z\n",
    "\n",
    "def extract_vel(d):\n",
    "    \"\"\"\n",
    "    extract velocity vectors for IMU data run dict\n",
    "    \n",
    "    :param d: dict of CSV file of IMU data run\n",
    "    :return: v (numpy array)\n",
    "    \"\"\"\n",
    "    v = np.array(d['v'], dtype='float32')\n",
    "    return v\n",
    "\n",
    "def extract_pos(d):\n",
    "    \"\"\"\n",
    "    extract position vectors for IMU data run dict\n",
    "    \n",
    "    :param d: dict of CSV file of IMU data run\n",
    "    :return: p (numpy array)\n",
    "    \"\"\"\n",
    "    p = np.array(d['d'], dtype='float32')\n",
    "    return p\n",
    "\n",
    "def extract_time(d):\n",
    "    \"\"\"\n",
    "    extract time vector for IMU data run dict (in seconds)\n",
    "    \n",
    "    :param d: dict of CSV file of IMU data run\n",
    "    :return: time\n",
    "    \"\"\"\n",
    "    timestamps = np.array(d['t'], dtype='float32')\n",
    "    return timestamps"
   ]
  },
  {
   "cell_type": "code",
   "execution_count": 5,
   "metadata": {},
   "outputs": [],
   "source": [
    "def extract_param(file_name, param):\n",
    "    \"\"\"\n",
    "    Extract param value from file name\n",
    "    :param file_name: name of file\n",
    "    :param param: name of parameter in file\n",
    "    \"\"\"\n",
    "    if  file_name.startswith(\"default\"):\n",
    "        if param == \"initialVar\":\n",
    "            return 0.5\n",
    "        elif param == \"stateVar\":\n",
    "            return 0.02\n",
    "        elif param == \"measVar\":\n",
    "            return 0.001\n",
    "        else:\n",
    "            raise ValueError(\"Unknown parameter %s!\" % param)\n",
    "    assert(file_name.startswith(param))\n",
    "    value_string = file_name[len(param):].split(\"_\")[0]\n",
    "    \n",
    "    if value_string[0] == \"0\":\n",
    "        value = float(\"0.\" + value_string[1:])\n",
    "    else:\n",
    "        value = float(value_string)\n",
    "    return value"
   ]
  },
  {
   "cell_type": "code",
   "execution_count": 6,
   "metadata": {},
   "outputs": [],
   "source": [
    "# read all data files for simulation test\n",
    "initial_var_dicts = {} \n",
    "for file in os.listdir(\"simulation/initial_error_variance\"):\n",
    "    if not file.endswith(\".csv\"):\n",
    "        continue\n",
    "    data_file = os.path.join(\"simulation/initial_error_variance\", file) \n",
    "    param = extract_param(file, \"initialVar\")\n",
    "    if param not in initial_var_dicts:\n",
    "        initial_var_dicts[param] = [csv_to_dict(data_file)]\n",
    "    else:\n",
    "        initial_var_dicts[param].append(csv_to_dict(data_file))\n",
    "    \n",
    "state_var_dicts = {} \n",
    "for file in os.listdir(\"simulation/state_transition_variance\"):\n",
    "    if not file.endswith(\".csv\"):\n",
    "        continue\n",
    "    data_file = os.path.join(\"simulation/state_transition_variance\", file) \n",
    "    param = extract_param(file, \"stateVar\")\n",
    "    if param not in state_var_dicts:\n",
    "        state_var_dicts[param] = [csv_to_dict(data_file)]\n",
    "    else:\n",
    "        state_var_dicts[param].append(csv_to_dict(data_file))\n",
    "    \n",
    "measurement_var_dicts = {} \n",
    "for file in os.listdir(\"simulation/measurement_variance\"):\n",
    "    if not file.endswith(\".csv\"):\n",
    "        continue\n",
    "    data_file = os.path.join(\"simulation/measurement_variance\", file) \n",
    "    param = extract_param(file, \"measVar\")\n",
    "    if param not in measurement_var_dicts:\n",
    "        measurement_var_dicts[param] = [csv_to_dict(data_file)]\n",
    "    else:\n",
    "        measurement_var_dicts[param].append(csv_to_dict(data_file))"
   ]
  },
  {
   "cell_type": "code",
   "execution_count": 7,
   "metadata": {},
   "outputs": [
    {
     "name": "stdout",
     "output_type": "stream",
     "text": [
      "initial vars\n",
      "0.5 2\n",
      "0.01 2\n",
      "0.1 2\n",
      "10.0 2\n",
      "5.0 2\n",
      "state vars:\n",
      "0.02 2\n",
      "0.0002 2\n",
      "0.002 2\n",
      "0.05 2\n",
      "0.2 2\n",
      "measurement vars:\n",
      "0.001 2\n",
      "0.0001 2\n",
      "0.01 2\n",
      "0.1 2\n"
     ]
    }
   ],
   "source": [
    "# check read values and that always both CSV dicts were read\n",
    "print(\"initial vars\")\n",
    "for key in initial_var_dicts:\n",
    "    print(key, len(initial_var_dicts[key]))\n",
    "print(\"state vars:\")\n",
    "for key in state_var_dicts:\n",
    "    print(key, len(state_var_dicts[key]))\n",
    "print(\"measurement vars:\")\n",
    "for key in measurement_var_dicts:\n",
    "    print(key, len(measurement_var_dicts[key]))"
   ]
  },
  {
   "cell_type": "code",
   "execution_count": 12,
   "metadata": {},
   "outputs": [],
   "source": [
    "def generate_plots(param_dict, param_name):\n",
    "    num_Params = len(param_dict.keys())\n",
    "    num_logs = 2\n",
    "    \n",
    "    fig, axs = plt.subplots(num_params * 3, num_logs, figsize=(16,48))\n",
    "    fig.suptitle(\"Acceleration Filtering Parameterisation %s\" % param_name, y=1.01)\n",
    "    # plot\n",
    "    for i, param in enumerate(sorted(param_dict)):\n",
    "        param_list = param_dict[param]\n",
    "        for j, d in enumerate(param_list):\n",
    "            acc = extract_acc(d)\n",
    "            z = extract_z(d)\n",
    "            times = extract_time(d)\n",
    "            axs[i * 3, j].plot(times, z, alpha=0.3, label=r\"unfiltered\")\n",
    "            axs[i * 3, j].plot(times, acc, alpha=0.3, label=r\"filtered\")\n",
    "            # format\n",
    "            axs[i * 3, j].set_title(r\"%s = %.4f, log %d\" % (param_name, param, j + 1))\n",
    "            if j == 0:\n",
    "                axs[i * 3, j].set_ylabel(r\"$acc$ $[ms^{-2}]$\")\n",
    "            axs[i * 3, j].legend()\n",
    "            \n",
    "            # plot vel\n",
    "            vel = extract_vel(d)\n",
    "            axs[i * 3 + 1, j].plot(times, vel)\n",
    "            if j == 0:\n",
    "                axs[i * 3 + 1, j].set_ylabel(r\"$vel$ $[m/s]$\")\n",
    "\n",
    "            # plot pos \n",
    "            pos = extract_pos(d)\n",
    "            axs[i * 3 + 2, j].plot(times, pos)\n",
    "            if j == 0:\n",
    "                axs[i * 3 + 2, j].set_ylabel(r\"$pos$ $[m]$\")\n",
    "            if i == num_params - 1:\n",
    "                axs[i * 3 + 2, j].set_xlabel(r\"$t$ $[s]$\")\n",
    "    fig.tight_layout()"
   ]
  },
  {
   "cell_type": "code",
   "execution_count": 26,
   "metadata": {},
   "outputs": [],
   "source": [
    "def output_errors(param_dict, param_name):\n",
    "    num_Params = len(param_dict.keys())\n",
    "    num_logs = 2\n",
    "    \n",
    "    print(\"Final errors for %s values\" % param_name)\n",
    "    for param in sorted(param_dict):\n",
    "        param_list = param_dict[param]\n",
    "        print(\"%s = %.5f\" % (param_name, param))\n",
    "        vel_errors = []\n",
    "        pos_errors = []\n",
    "        for d in param_list:\n",
    "            vel = extract_vel(d)\n",
    "            vel_errors.append(vel[-1])\n",
    "            pos = extract_pos(d)\n",
    "            pos_errors.append(abs(pos[-1] - 1250.0))\n",
    "        print(\"\\tAverage Final velocity error: %.3f (%.3f, %.3f)\" % (sum(vel_errors)/len(vel_errors), vel_errors[0], vel_errors[1]))\n",
    "        print(\"\\tAverage Final position error: %.3f (%.3f, %.3f)\" % (sum(pos_errors)/len(pos_errors), pos_errors[0], pos_errors[1]))"
   ]
  },
  {
   "cell_type": "code",
   "execution_count": null,
   "metadata": {
    "scrolled": false
   },
   "outputs": [],
   "source": [
    "generate_plots(initial_var_dicts, \"Initial Error Variance\")"
   ]
  },
  {
   "cell_type": "code",
   "execution_count": null,
   "metadata": {},
   "outputs": [],
   "source": [
    "output_errors(initial_var_dicts, \"Initial Error Variance\")"
   ]
  },
  {
   "cell_type": "code",
   "execution_count": null,
   "metadata": {
    "scrolled": false
   },
   "outputs": [],
   "source": [
    "generate_plots(state_var_dicts, \"State Transition Variance\")"
   ]
  },
  {
   "cell_type": "code",
   "execution_count": null,
   "metadata": {},
   "outputs": [],
   "source": [
    "output_errors(state_var_dicts, \"State Transition Variance\")"
   ]
  },
  {
   "cell_type": "code",
   "execution_count": null,
   "metadata": {
    "scrolled": false
   },
   "outputs": [],
   "source": [
    "generate_plots(measurement_var_dicts, \"Measurement Variance\")"
   ]
  },
  {
   "cell_type": "code",
   "execution_count": null,
   "metadata": {},
   "outputs": [],
   "source": [
    "output_errors(measurement_var_dicts, \"Measurement Variance\")"
   ]
  }
 ],
 "metadata": {
  "kernelspec": {
   "display_name": "Python 3",
   "language": "python",
   "name": "python3"
  },
  "language_info": {
   "codemirror_mode": {
    "name": "ipython",
    "version": 3
   },
   "file_extension": ".py",
   "mimetype": "text/x-python",
   "name": "python",
   "nbconvert_exporter": "python",
   "pygments_lexer": "ipython3",
   "version": "3.7.3"
  }
 },
 "nbformat": 4,
 "nbformat_minor": 2
}
